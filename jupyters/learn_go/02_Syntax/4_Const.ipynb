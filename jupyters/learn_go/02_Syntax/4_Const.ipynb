{
 "cells": [
  {
   "cell_type": "markdown",
   "metadata": {},
   "source": [
    "# 2. 语法\n",
    "\n",
    "## 4. Constants 常数\n",
    "Constants are a way to create a named identifier whose value can never change. They also provide an incredible amount of flexibility to the language. The way constants are implemented in Go is very unique.  \n",
    "常量是一种创建命名标识符的方法，其值永远不会更改。它们还为语言提供了令人难以置信的灵活性。常量在 Go 中的实现方式非常独特。  "
   ]
  },
  {
   "cell_type": "markdown",
   "metadata": {},
   "source": [
    "### Notes 笔记\n",
    "Constants are not variables.  \n",
    "常量不是变量。  \n",
    "\n",
    "They exist only at compilation.  \n",
    "它们仅在编译时存在。  \n",
    "\n",
    "Untyped constants can be implicitly converted where typed constants and variables can't.  \n",
    "非类型化常量可以隐式转换，而类型化常量和变量不能隐式转换。  \n",
    "\n",
    "Think of untyped constants as having a Kind, not a Type.  \n",
    "将非类型化常量视为具有 Kind，而不是 Type。  \n",
    "\n",
    "Learn about explicit and implicit conversions.  \n",
    "了解显式和隐式转换。  \n",
    "\n",
    "See the power of constants and their use in the standard library.  \n",
    "在标准库中查看常量的强大功能及其用法。  "
   ]
  },
  {
   "cell_type": "markdown",
   "metadata": {},
   "source": [
    "### Links 链接\n",
    "[Constants specification](https://golang.org/ref/spec#Constants)   \n",
    "常量规范  \n",
    "\n",
    "[Constants](https://blog.golang.org/constants) - Rob Pike  \n",
    "常量 - 罗伯派克  \n",
    "\n",
    "[Introduction To Numeric Constants In Go](https://www.ardanlabs.com/blog/2014/04/introduction-to-numeric-constants-in-go.html) - William Kennedy  \n",
    "Go中的数字常量简介 - 威廉肯尼迪"
   ]
  },
  {
   "cell_type": "markdown",
   "metadata": {},
   "source": [
    "### Code Review 代码审查\n",
    "Declare and initialize constants (Go Playground)  \n",
    "声明和初始化常量（Go Playground）  \n",
    "  \n",
    "Parallel type system (Kind) (Go Playground)  \n",
    "并联式系统 （种类） （ Go Playground）  \n",
    "  \n",
    "iota (Go Playground)  \n",
    "iota （ Go Playground）  \n",
    "  \n",
    "Implicit conversion (Go Playground)  \n",
    "隐式转换（Go Playground）  "
   ]
  },
  {
   "cell_type": "markdown",
   "metadata": {},
   "source": [
    "### Exercises 习题\n",
    "Exercise 1 习题1\n",
    "Part A: Declare an untyped and typed constant and display their values.  \n",
    "A部分：声明一个非类型化常量和类型化常量并显示它们的值。  \n",
    "  \n",
    "Part B: Divide two literal constants into a typed variable and display the value.  \n",
    "B部分：将两个文本常量划分为一个类型变量并显示值。  \n",
    "  \n",
    "Template (Go Playground) | Answer (Go Playground)  \n",
    "模板 （ 去游乐场） |答案（去游乐场）"
   ]
  }
 ],
 "metadata": {
  "kernelspec": {
   "display_name": "Go",
   "language": "go",
   "name": "gophernotes"
  },
  "language_info": {
   "name": "go"
  },
  "orig_nbformat": 4
 },
 "nbformat": 4,
 "nbformat_minor": 2
}
