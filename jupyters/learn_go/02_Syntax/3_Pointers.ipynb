{
 "cells": [
  {
   "cell_type": "markdown",
   "metadata": {},
   "source": [
    "## Pointers 指针\n",
    "Pointers provide a way to share data across program boundaries. Having the ability to share and reference data with a pointer provides the benefit of efficiency. There is only one copy of the data and everyone can see it changing.  \n",
    "指针提供了一种跨程序边界共享数据的方法。能够使用指针共享和引用数据可提高效率。数据只有一个副本，每个人都可以看到它的变化。  \n",
    "\n",
    "The cost is that anyone can change the data which can cause side effects in running programs.  \n",
    "代价是任何人都可以更改数据，这可能会在运行程序中引起副作用。  "
   ]
  },
  {
   "cell_type": "markdown",
   "metadata": {},
   "source": [
    "### Notes 笔记\n",
    "Use pointers to share data.  \n",
    "使用指针共享数据。  \n",
    "\n",
    "Values in Go are always pass by value.  \n",
    "Go 中的值始终按值传递。  \n",
    "\n",
    "\"Value of\", what's in the box. \"Address of\" ( & ), where is the box.  \n",
    "“值”，盒子里有什么。“地址”（&），框在哪里。  \n",
    "\n",
    "The (\\*) operator declares a pointer variable and the \"Value that the pointer points to\".  \n",
    "（\\*） 运算符声明一个指针变量和“指针指向的值”。  \n"
   ]
  },
  {
   "cell_type": "markdown",
   "metadata": {},
   "source": [
    "### Escape Analysis 逃逸分析\n",
    "When a value could be referenced after the function that constructs the value returns.  \n",
    "当可以在构造值的函数返回后引用值时。  \n",
    "\n",
    "When the compiler determines a value is too large to fit on the stack.  \n",
    "当编译器确定某个值太大而无法容纳在堆栈上时。  \n",
    "\n",
    "When the compiler doesn’t know the size of a value at compile time.  \n",
    "当编译器在编译时不知道值的大小时。  \n",
    "\n",
    "When a value is decoupled through the use of function or interface values.  \n",
    "当通过使用函数或接口值解耦值时。  "
   ]
  },
  {
   "cell_type": "markdown",
   "metadata": {},
   "source": [
    "### Garbage Collection History   垃圾回收历史记录\n",
    "\n",
    "The design of the Go GC has changed over the years:  \n",
    "Go GC的设计多年来发生了变化：  \n",
    "\n",
    "- Go 1.0, Stop the world mark sweep collector based heavily on tcmalloc.\n",
    "- Go 1.0，停止大量基于tcmalloc的世界标记扫描收集器。\n",
    "\n",
    "- Go 1.2, Precise collector, wouldn't mistake big numbers (or big strings of text) for pointers.\n",
    "- Go 1.2，精确的收集器，不会将大数字（或大文本字符串）误认为指针。\n",
    "\n",
    "- Go 1.3, Fully precise tracking of all stack values.\n",
    "- Go 1.3，完全精确地跟踪所有堆栈值。\n",
    "\n",
    "- Go 1.4, Mark and sweep now parallel, but still stop the world.\n",
    "- Go 1.4，标记和扫现在平行，但仍然停止世界。\n",
    "\n",
    "- Go 1.5, New GC design, focusing on latency over throughput.\n",
    "- Go 1.5，新的 GC 设计，专注于延迟而不是吞吐量。\n",
    "\n",
    "- Go 1.6, GC improvements, handling larger heaps with lower latency.\n",
    "- Go 1.6，GC 改进，以更低的延迟处理更大的堆。\n",
    "\n",
    "- Go 1.7, GC improvements, handling larger number of idle goroutines, substantial stack size fluctuation, or large package-level variables.\n",
    "- Go 1.7，GC 改进，处理大量空闲 goroutine，堆栈大小大幅波动或大型包级变量。\n",
    "\n",
    "- Go 1.8, GC improvements, collection pauses should be significantly shorter than they were in Go 1.7, usually under 100 microseconds and often as low as 10 microseconds.\n",
    "- Go 1.8，GC 改进，收集暂停应该比 Go 1.7 中短得多，通常低于 100 微秒，通常低至 10 微秒。\n",
    "\n",
    "- Go 1.9, Large object allocation performance is significantly improved in applications using large (>50GB) heaps containing many large objects.\n",
    "- Go 1.9，在使用包含许多大型对象的大型 （>50GB） 堆的应用程序中，大型对象分配性能显著提高。\n",
    "\n",
    "- Go 1.10, Many applications should experience significantly lower allocation latency and overall performance overhead when the garbage collector is active.\n",
    "- Go 1.10，当垃圾回收器处于活动状态时，许多应用程序的分配延迟和总体性能开销应该会显著降低。"
   ]
  },
  {
   "cell_type": "markdown",
   "metadata": {},
   "source": [
    "### Garbage Collection Semantics 垃圾回收语义\n",
    "[Garbage Collection Semantics Part I](https://www.ardanlabs.com/blog/2018/12/garbage-collection-in-go-part1-semantics.html) - William Kennedy  \n",
    "垃圾回收语义第一部分 - 威廉·肯尼迪"
   ]
  },
  {
   "cell_type": "markdown",
   "metadata": {},
   "source": [
    "### Stack vs Heap 堆栈与堆\n",
    "- \"The stack is for data that needs to persist only for the lifetime of the function that constructs it, and is reclaimed without any cost when the function exits.\n",
    "- “堆栈用于仅在构造它的函数的生存期内需要保留的数据，并且在函数退出时无需任何成本即可回收。\n",
    "- The heap is for data that needs to persist after the function that constructs it exits, and is reclaimed by a sometimes costly garbage collection.\" - Ayan George\n",
    "- 堆用于在构造它的函数退出后需要保留的数据，并由有时昂贵的垃圾收集回收。"
   ]
  },
  {
   "cell_type": "markdown",
   "metadata": {},
   "source": [
    "### Links 链接\n",
    "#### Pointer Mechanics\n",
    "[Pointers vs. Values](https://golang.org/doc/effective_go.html#pointers_vs_values)   \n",
    "指针与值  \n",
    "\n",
    "[Language Mechanics On Stacks And Pointers](https://www.ardanlabs.com/blog/2017/05/language-mechanics-on-stacks-and-pointers.html) - William Kennedy  \n",
    "堆栈和指针上的语言力学 - 威廉·肯尼迪  \n",
    "\n",
    "[Using Pointers In Go](https://www.ardanlabs.com/blog/2014/12/using-pointers-in-go.html) - William Kennedy  \n",
    "在围棋中使用指针 - 威廉·肯尼迪  \n",
    "\n",
    "[Understanding Pointers and Memory Allocation](https://www.ardanlabs.com/blog/2013/07/understanding-pointers-and-memory.html) - William Kennedy  \n",
    "了解指针和内存分配 - 威廉·肯尼迪  "
   ]
  },
  {
   "cell_type": "markdown",
   "metadata": {},
   "source": [
    "#### Stacks 栈\n",
    "[Contiguous Stack Proposal](https://docs.google.com/document/d/1wAaf1rYoM4S4gtnPh0zOlGzWtrZFQ5suE8qr2sD8uWQ/pub)\n",
    "连续堆栈提案"
   ]
  },
  {
   "cell_type": "markdown",
   "metadata": {},
   "source": [
    "> https://github.com/ardanlabs/gotraining/tree/master/topics/go/language/pointers#garbage-collection"
   ]
  },
  {
   "cell_type": "markdown",
   "metadata": {},
   "source": [
    "### Code Review 代码审查\n",
    "> https://github.com/ardanlabs/gotraining/tree/master/topics/go/language/pointers#code-review\n",
    "\n",
    "[Pass by Value](https://github.com/ardanlabs/gotraining/blob/master/topics/go/language/pointers/example1/example1.go) ([Go Playground](https://play.golang.org/p/9kxh18hd_BT))  \n",
    "按价值传递（Go Playground）  \n",
    "\n",
    "Sharing data I (Go Playground)  \n",
    "共享数据 I （ Go Playground）  \n",
    "\n",
    "Sharing data II (Go Playground)  \n",
    "共享数据 II （ Go Playground）  \n",
    "\n",
    "Escape Analysis (Go Playground)  \n",
    "逃逸分析（Go Playground）  \n",
    "\n",
    "Stack grow (Go Playground)  \n",
    "堆栈增长（Go Playground）  "
   ]
  },
  {
   "cell_type": "markdown",
   "metadata": {},
   "source": [
    "### Escape Analysis Flaws 逃逸分析缺陷\n",
    "Indirect Assignment 间接转让  \n",
    "Indirection Execution 间接执行  \n",
    "Assignment Slices Maps 分配切片映射  \n",
    "Indirection Level Interfaces  \n",
    "间接寻址级别接口  \n",
    "Unknown 未知  "
   ]
  },
  {
   "cell_type": "markdown",
   "metadata": {},
   "source": [
    "### Exercises 习题\n",
    "#### Exercise 1 习题1\n",
    "Part A Declare and initialize a variable of type int with the value of 20. Display the address of and value of the variable.  \n",
    "A 部分 声明并初始化值为 20 的 int 类型的变量。显示变量的地址和值。  \n",
    "\n",
    "Part B Declare and initialize a pointer variable of type int that points to the last variable you just created. Display the address of , value of and the value that the pointer points to.  \n",
    "B 部分 声明并初始化 int 类型的指针变量，该变量指向刚刚创建的最后一个变量。显示 的地址 、值 和指针指向的值。  \n",
    "\n",
    "Template (Go Playground) | Answer (Go Playground)  \n",
    "模板 （ 去游乐场） |答案（去游乐场）  \n",
    "\n",
    "#### Exercise 2 习题2\n",
    "Declare a struct type and create a value of this type. Declare a function that can change the value of some field in this struct type. Display the value before and after the call to your function.  \n",
    "声明结构类型并创建此类型的值。声明一个函数，该函数可以更改此结构类型中某个字段的值。显示调用函数之前和之后的值。  \n",
    "\n",
    "Template (Go Playground) | Answer (Go Playground)  \n",
    "模板 （ 去游乐场） |答案（去游乐场）  "
   ]
  }
 ],
 "metadata": {
  "kernelspec": {
   "display_name": "Go",
   "language": "go",
   "name": "gophernotes"
  },
  "language_info": {
   "name": "go"
  },
  "orig_nbformat": 4
 },
 "nbformat": 4,
 "nbformat_minor": 2
}
