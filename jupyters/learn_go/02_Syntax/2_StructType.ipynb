{
 "cells": [
  {
   "cell_type": "markdown",
   "metadata": {},
   "source": [
    "# 02语法\n",
    "## 2 结构体\n",
    "> https://github.com/ardanlabs/gotraining/blob/master/topics/go/language/struct_types/README.md\n",
    "\n",
    "Struct types are a way of creating complex types that group fields of data together. They are a great way of organizing and sharing the different aspects of the data your program consumes.  \n",
    "结构类型是一种创建将数据字段组合在一起的复杂类型的方法。它们是组织和共享程序使用的数据的不同方面的好方法。  \n",
    "\n",
    "A computer architecture’s potential performance is determined predominantly by its word length (the number of bits that can be processed per access) and, more importantly, memory size, or the number of words that it can access.  \n",
    "计算机体系结构的潜在性能主要取决于其字长（每次访问可以处理的位数），更重要的是，内存大小或可以访问的字数。  \n",
    "\n"
   ]
  },
  {
   "cell_type": "markdown",
   "metadata": {},
   "source": [
    "\n",
    "### Notes 笔记\n",
    "We can use the struct literal form to initialize a value from a struct type.  \n",
    "我们可以使用结构文字形式从结构类型初始化值。  \n",
    "\n",
    "The dot (.) operator allows us to access individual field values.  \n",
    "点 （.） 运算符允许我们访问单个字段值。  \n",
    "\n",
    "We can create anonymous structs.  \n",
    "我们可以创建匿名结构。  "
   ]
  },
  {
   "cell_type": "markdown",
   "metadata": {},
   "source": [
    "### Links 链接\n",
    "[Understanding Type in Go](https://www.ardanlabs.com/blog/2013/07/understanding-type-in-go.html) - William Kennedy  \n",
    "了解围棋中的类型 - 威廉·肯尼迪  \n",
    "\n",
    "[Object Oriented Programming in Go](https://www.ardanlabs.com/blog/2013/07/object-oriented-programming-in-go.html) - William Kennedy  \n",
    "Go 中的面向对象编程 - William Kennedy  \n",
    "\n",
    "[Padding is hard](https://dave.cheney.net/2015/10/09/padding-is-hard) - Dave Cheney  \n",
    "填充很难 - 戴夫切尼  \n",
    "\n",
    "[Structure Member Alignment, Padding and Data Packing](https://www.geeksforgeeks.org/structure-member-alignment-padding-and-data-packing/)\n",
    "结构成员对齐、填充和数据打包  \n",
    "\n",
    "[The Lost Art of Structure Packing](http://www.catb.org/esr/structure-packing) - Eric S. Raymond  \n",
    "结构包装的失落艺术 - 埃里克·雷蒙德  "
   ]
  },
  {
   "cell_type": "markdown",
   "metadata": {},
   "source": [
    "### Code Review 代码审查\n",
    "[Declare, create and initialize struct types](https://github.com/ardanlabs/gotraining/blob/master/topics/go/language/struct_types/example1/example1.go) ([Go Playground](https://play.golang.org/p/djzGT1JtSwy))  \n",
    "声明、创建和初始化结构类型（Go Playground）  \n",
    "\n",
    "[Anonymous struct types](https://github.com/ardanlabs/gotraining/blob/master/topics/go/language/struct_types/example2/example2.go) ([Go Playground](https://play.golang.org/p/09cxjnmfcdC))  \n",
    "匿名结构类型（Go Playground）  \n",
    "\n",
    "[Named vs Unnamed types](https://github.com/ardanlabs/gotraining/blob/master/topics/go/language/struct_types/example3/example3.go) ([Go Playground](https://play.golang.org/p/ky91roJDjir))  \n",
    "命名类型与未命名类型（Go Playground）  "
   ]
  },
  {
   "cell_type": "markdown",
   "metadata": {},
   "source": [
    "### Advanced Code Review 高级代码审查\n",
    "\n",
    "[Struct type alignments](https://github.com/ardanlabs/gotraining/blob/master/topics/go/language/struct_types/advanced/example1/example1.go) ([Go Playground](https://play.golang.org/p/ky91roJDjir))  \n",
    "结构类型对齐（Go Playground）  "
   ]
  },
  {
   "cell_type": "markdown",
   "metadata": {},
   "source": [
    "### Exercises 习题\n",
    "#### Exercise 1 习题1\n",
    "Part A: Declare a struct type to maintain information about a user (name, email and age). Create a value of this type, initialize with values and display each field.  \n",
    "A部分：声明结构类型以维护有关用户的信息（姓名，电子邮件和年龄）。创建此类型的值，使用值初始化并显示每个字段。  \n",
    "\n",
    "Part B: Declare and initialize an anonymous struct type with the same three fields. Display the value.  \n",
    "B部分：声明并初始化具有相同三个字段的匿名结构类型。显示值。  \n",
    "\n",
    "[Template](https://github.com/ardanlabs/gotraining/blob/master/topics/go/language/struct_types/exercises/template1/template1.go) ([Go Playground](https://play.golang.org/p/h-7BEn2U3Rz)) | [Answer](https://github.com/ardanlabs/gotraining/blob/master/topics/go/language/struct_types/exercises/exercise1/exercise1.go) ([Go Playground](https://play.golang.org/p/eT_gLZKeHk-))  \n",
    "模板 （ 去游乐场） |答案（去游乐场）"
   ]
  }
 ],
 "metadata": {
  "kernelspec": {
   "display_name": "Go",
   "language": "go",
   "name": "gophernotes"
  },
  "language_info": {
   "name": "go"
  },
  "orig_nbformat": 4
 },
 "nbformat": 4,
 "nbformat_minor": 2
}
