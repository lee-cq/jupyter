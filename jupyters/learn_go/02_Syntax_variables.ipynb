{
 "cells": [
  {
   "cell_type": "markdown",
   "metadata": {},
   "source": [
    "# 01 语法\n",
    "\n",
    "## 1. 变量\n",
    "\n",
    "变量是语言的核心，提供读取和写入内存的能力。在 Go 中，对内存的访问是类型安全的。这意味着编译器认真对待类型，不允许我们使用变量在声明范围之外。"
   ]
  },
  {
   "cell_type": "markdown",
   "metadata": {},
   "source": [
    "### Notes 笔记\n",
    "The purpose of all programs and all parts of those programs is to transform data from one form to the other.   \n",
    "所有程序和这些程序的所有部分的目的是将数据从一种形式转换为另一种形式。   \n",
    "   \n",
    "Code primarily allocates, reads and writes to memory.  \n",
    "代码主要分配、读取和写入内存。\n",
    "  \n",
    "Understanding type is crucial to writing good code and understanding code.  \n",
    "了解类型对于编写良好的代码和理解代码至关重要。  \n",
    "\n",
    "If you don't understand the data, you don't understand the problem.  \n",
    "如果你不了解数据，你就不了解问题所在。  \n",
    "\n",
    "You understand the problem better by understanding the data.  \n",
    "通过了解数据，您可以更好地理解问题。  \n",
    "\n",
    "When variables are being declared to their zero value, use the keyword var.  \n",
    "当变量声明为其零值时，请使用关键字 var。  \n",
    "\n",
    "When variables are being declared and initialized, use the short variable declaration operator.  \n",
    "声明和初始化变量时，请使用短变量声明运算符。  \n"
   ]
  },
  {
   "cell_type": "markdown",
   "metadata": {},
   "source": [
    "### Links\n",
    "1. [Go语言编程规范](https://go.dev/ref/spec)\n",
    "2. [Built-In Types - 内置类型](https://go.dev/ref/spec#Boolean_types)  \n",
    "3. [Variables - 变量](https://go.dev/ref/spec#Boolean_types)  \n",
    "4. [Gustavo's IEEE-754 Brain Teaser](https://www.ardanlabs.com/blog/2013/08/gustavos-ieee-754-brain-teaser.html) - William Kennedy\n",
    "5. [What's in a name](https://www.youtube.com/watch?v=sFUSP8Au_PE)  \n",
    "6. [A brief history of “type”](http://arcanesentiment.blogspot.com/2015/01/a-brief-history-of-type.html) - Arcane Sentiment  "
   ]
  },
  {
   "cell_type": "markdown",
   "metadata": {},
   "source": [
    "### Code Review\n",
    "[Declare and initialize variables](https://github.com/ardanlabs/gotraining/blob/master/topics/go/language/variables/example1/example1.go)\n",
    "([Go Playground](https://play.golang.org/p/xD_6ghgB7wm))  \n",
    "声明和初始化变量（Go Playground）"
   ]
  },
  {
   "cell_type": "code",
   "execution_count": 3,
   "metadata": {},
   "outputs": [
    {
     "name": "stdout",
     "output_type": "stream",
     "text": [
      "var a int \t int [0]\n",
      "var b string \t string []\n",
      "var c float64 \t float64 [0]\n",
      "var d bool \t bool [false]\n",
      "\n"
     ]
    }
   ],
   "source": [
    "import (\n",
    "\t\"fmt\"\n",
    ")\n",
    "\n",
    "func main() {\n",
    "\t// 使用var 定义的变量，且未复制，则该变量会初始化为 零值\n",
    "\n",
    "\tvar a int  // 除非明确需要，否则不应该使用位尾 int8\n",
    "\tvar b string  // String 是一种引用类型 [指向承载数据的指针 | 字节数] == 空字符串 [0 | 0]\n",
    "\tvar c float64  \n",
    "\tvar d bool\n",
    "\n",
    "\tfmt.Printf(\"var a int \\t %T [%v]\\n\", a, a)\n",
    "\tfmt.Printf(\"var b string \\t %T [%v]\\n\", b, b)\n",
    "\tfmt.Printf(\"var c float64 \\t %T [%v]\\n\", c, c)\n",
    "\tfmt.Printf(\"var d bool \\t %T [%v]\\n\\n\", d, d)\n",
    "}\n",
    "\n",
    "main()"
   ]
  },
  {
   "cell_type": "code",
   "execution_count": 6,
   "metadata": {},
   "outputs": [
    {
     "name": "stdout",
     "output_type": "stream",
     "text": [
      "aa := 10 \t int [10]\n",
      "bb := \"hello\" \t string [hello]\n",
      "cc := 3.14159 \t float64 [3.14159]\n",
      "dd := true \t bool [true]\n",
      "\n"
     ]
    }
   ],
   "source": [
    "import \"fmt\"\n",
    "\n",
    "func main() {\n",
    "\t// 声明变量并初始化\n",
    "\t// 使用简短的变量声明运算符。\n",
    "\taa := 10 \n",
    "\tbb := \"hello\"\n",
    "\tcc := 3.14159\n",
    "\tdd := true\n",
    "\n",
    "\tfmt.Printf(\"aa := 10 \\t %T [%v]\\n\", aa, aa)\n",
    "\tfmt.Printf(\"bb := \\\"hello\\\" \\t %T [%v]\\n\", bb, bb)\n",
    "\tfmt.Printf(\"cc := 3.14159 \\t %T [%v]\\n\", cc, cc)\n",
    "\tfmt.Printf(\"dd := true \\t %T [%v]\\n\\n\", dd, dd)\n",
    "}\n",
    "\n",
    "main()\n"
   ]
  },
  {
   "cell_type": "code",
   "execution_count": 7,
   "metadata": {},
   "outputs": [],
   "source": [
    "// 坏味道代码：优先考虑使用 var aaa int 进行零值声明。\n",
    "// 除非为了代码统一\n",
    "aaa := 0 "
   ]
  },
  {
   "cell_type": "markdown",
   "metadata": {},
   "source": [
    "GO语言使用转化而不是强制类型转换，使用更多的内存，但是更稳定\n",
    "\n",
    "转化的工作流程：\n",
    "1. 为目标类型申请新的内内存\n",
    "2. 强制转换源数据并将值防止在新的内存中\n",
    "3. 将值赋给新变量"
   ]
  },
  {
   "cell_type": "code",
   "execution_count": 8,
   "metadata": {},
   "outputs": [
    {
     "name": "stdout",
     "output_type": "stream",
     "text": [
      "bb := \"hello\" \t int8 [10]\n"
     ]
    },
    {
     "data": {
      "text/plain": [
       "26 <nil>"
      ]
     },
     "execution_count": 8,
     "metadata": {},
     "output_type": "execute_result"
    }
   ],
   "source": [
    "import \"fmt\"\n",
    "\n",
    "aa := 10\n",
    "\n",
    "bb := int8(10)\n",
    "\n",
    "fmt.Printf(\"bb := \\\"hello\\\" \\t %T [%v]\\n\", bb, bb)"
   ]
  },
  {
   "cell_type": "markdown",
   "metadata": {},
   "source": [
    "### Exercises - 练习\n",
    "\n",
    "#### Exercise 1\n",
    "\n",
    "Part A: Declare three variables that are initialized to their zero value and three declared with a literal value. Declare variables of type string, int and bool. Display the values of those variables.   \n",
    "A部分：声明三个初始化为零值的变量和三个使用文本值声明的变量。声明字符串、int 和 bool 类型的变量。显示这些变量的值。"
   ]
  },
  {
   "cell_type": "code",
   "execution_count": 9,
   "metadata": {},
   "outputs": [
    {
     "name": "stdout",
     "output_type": "stream",
     "text": [
      "a : \t int [0]\n",
      "b : \t string []\n",
      "c : \t bool [false]\n",
      "aa : \t int [99]\n",
      "bb : \t string [bb]\n",
      "cc : \t bool [true]\n"
     ]
    },
    {
     "data": {
      "text/plain": [
       "19 <nil>"
      ]
     },
     "execution_count": 9,
     "metadata": {},
     "output_type": "execute_result"
    }
   ],
   "source": [
    "import \"fmt\"\n",
    "\n",
    "var (\n",
    "\ta int\n",
    "\tb string\n",
    "\tc bool\n",
    ")\n",
    "\n",
    "aa := 99\n",
    "bb := \"bb\"\n",
    "cc := true\n",
    "\n",
    "fmt.Printf(\"a : \\t %T [%v]\\n\", a, a)\n",
    "fmt.Printf(\"b : \\t %T [%v]\\n\", b, b)\n",
    "fmt.Printf(\"c : \\t %T [%v]\\n\", c, c)\n",
    "\n",
    "fmt.Printf(\"aa : \\t %T [%v]\\n\", aa, aa)\n",
    "fmt.Printf(\"bb : \\t %T [%v]\\n\", bb, bb)\n",
    "fmt.Printf(\"cc : \\t %T [%v]\\n\", cc, cc)\n"
   ]
  },
  {
   "cell_type": "markdown",
   "metadata": {},
   "source": [
    "\n",
    "Part B: Declare a new variable of type float32 and initialize the variable by converting the literal value of Pi (3.14).  \n",
    "B部分：声明一个类型为float32的新变量，并通过转换Pi（3.14）的文字值来初始化该变量。"
   ]
  },
  {
   "cell_type": "code",
   "execution_count": 11,
   "metadata": {},
   "outputs": [
    {
     "name": "stdout",
     "output_type": "stream",
     "text": [
      "3.14\n",
      "3.1415927\n"
     ]
    },
    {
     "data": {
      "text/plain": [
       "10 <nil>"
      ]
     },
     "execution_count": 11,
     "metadata": {},
     "output_type": "execute_result"
    }
   ],
   "source": [
    "\n",
    "import (\n",
    "\t\"fmt\"\n",
    "\t\"math\"\n",
    ")\n",
    "\n",
    "pi32 := float32(3.14)\n",
    "fmt.Println(pi32)\n",
    "\n",
    "pi32N := float32(math.Pi)\n",
    "fmt.Println(pi32N)\n"
   ]
  }
 ],
 "metadata": {
  "kernelspec": {
   "display_name": "Go",
   "language": "go",
   "name": "gophernotes"
  },
  "language_info": {
   "codemirror_mode": "",
   "file_extension": ".go",
   "mimetype": "",
   "name": "go",
   "nbconvert_exporter": "",
   "pygments_lexer": "",
   "version": "go1.20.5"
  },
  "orig_nbformat": 4
 },
 "nbformat": 4,
 "nbformat_minor": 2
}
