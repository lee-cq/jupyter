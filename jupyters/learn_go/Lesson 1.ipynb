{
 "cells": [
  {
   "cell_type": "markdown",
   "id": "0573436f-716d-45e2-8f1d-a6b53cfc6c8d",
   "metadata": {},
   "source": [
    "# Lesson 1: Design Guidlines - 设计指南\n",
    "\n",
    "## 1.1 Go语言的设计思路\n",
    "\n",
    "> https://github.com/ardanlabs/gotraining/tree/master/topics/go\n",
    "\n",
    "\"Few programmers of any experience would contradict the assertion that most programs are modified in their lifetime. Why then do we rarely find a program that contains any evidence of having been written with an eye to subsequent modification.\" - Gerald M. Weinberg  \n",
    "“很少有有经验的程序员会反驳大多数程序在其生命周期中被修改的说法。那么，为什么我们很少找到一个程序包含任何证据证明是在考虑后续修改的情况下编写的。  \n",
    "\n",
    "\"We think awful code is written by awful devs. But in reality, it's written by reasonable devs in awful circumstances.\" - Sarah Mei  \n",
    "“我们认为糟糕的代码是由糟糕的开发人员编写的。但实际上，它是由理性的开发人员在糟糕的情况下编写的。  \n",
    "\n"
   ]
  },
  {
   "cell_type": "code",
   "execution_count": null,
   "id": "e3392825-60fe-457e-a90f-daf9f87d66f0",
   "metadata": {},
   "outputs": [],
   "source": [
    "import \"fmt\"\n",
    "\n",
    "func main() {\n",
    "    fmt.Println(\"ok\")\n",
    "}"
   ]
  }
 ],
 "metadata": {
  "kernelspec": {
   "display_name": "Go",
   "language": "go",
   "name": "gophernotes"
  },
  "language_info": {
   "codemirror_mode": "",
   "file_extension": ".go",
   "mimetype": "",
   "name": "go",
   "nbconvert_exporter": "",
   "pygments_lexer": "",
   "version": "go1.20.5"
  }
 },
 "nbformat": 4,
 "nbformat_minor": 5
}
