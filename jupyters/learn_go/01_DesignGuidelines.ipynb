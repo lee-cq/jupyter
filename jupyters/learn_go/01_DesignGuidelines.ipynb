{
 "cells": [
  {
   "cell_type": "markdown",
   "id": "0573436f-716d-45e2-8f1d-a6b53cfc6c8d",
   "metadata": {},
   "source": [
    "# Lesson 1: Design Guidlines - 设计指南\n",
    "\n",
    "## 1.1 Go语言的设计思路\n",
    "\n",
    "> https://github.com/ardanlabs/gotraining/tree/master/topics/go\n",
    "\n",
    "\"Few programmers of any experience would contradict the assertion that most programs are modified in their lifetime. Why then do we rarely find a program that contains any evidence of having been written with an eye to subsequent modification.\" - Gerald M. Weinberg  \n",
    "“很少有有经验的程序员会反驳大多数程序在其生命周期中被修改的说法。那么，为什么我们很少找到一个程序包含任何证据证明是在考虑后续修改的情况下编写的。  \n",
    "\n",
    "\"We think awful code is written by awful devs. But in reality, it's written by reasonable devs in awful circumstances.\" - Sarah Mei  \n",
    "“我们认为糟糕的代码是由糟糕的开发人员编写的。但实际上，它是由理性的开发人员在糟糕的情况下编写的。  \n",
    "\n",
    "\n",
    "结论：\n",
    "1. 不要层层抽象 - 抽象会造成代码膨胀，不宜与管理； \n",
    "2. GO的代码直接有硬件执行；  \n",
    "3. 软件工程的成本： 好处 - 代价 的衡量  \n",
    "4. 抛开成本做软件 -- Hacking   \n",
    "5. 盲目的添加硬件是不明智的  -- Go语言性能卓越。  \n",
    "6. 良好的项目结构要提前做好准准备。  \n",
    "7. 放开思路，树立起新的理念；\n",
    "  \n",
    "时刻反思：  \n",
    "1. 需要不停的分析和反思自己的编程理念是什么。  \n",
    "2. 自己是根据什么做出决策的。  \n",
    "3. 自己的开发水平是不是正在提升。\n"
   ]
  },
  {
   "cell_type": "markdown",
   "id": "2d2b9228",
   "metadata": {},
   "source": [
    "### 遗留软件\n",
    "\n",
    "\"There are two kinds of software projects: those that fail, and those that turn into legacy horrors.\" - Peter Weinberger (inventor of AWK)\n",
    "“有两种类型的软件项目：失败的和变成遗留恐怖的项目。”\n",
    "\n",
    "失败的项目 - 无法投入生产的项目，能够有效维护的项目；\n",
    "\n",
    "关于遗留代码的问题是： 他们不知道还有其他的写法。\n",
    "                      时间节点太短。\n",
    "\n",
    "不要写出刚一写出来就无法维护的代码。\n",
    "\n",
    "### 写出好代码\n",
    "1. 用什么样的方式来写 -- 思路很重要 -- 最难对付的BUG是思路上的BUG\n",
    "2. 谨慎使用调试器 -- 正常情况下，应该通过整理思路和查看日志来解决BUG  -- 20Min原则：20min没有找到问题，用调试器\n",
    "3. 日志里要多记录写信息。\n",
    "4. 通过重构解决BUG\n",
    "\n",
    "\n",
    "    "
   ]
  },
  {
   "cell_type": "markdown",
   "id": "a91ab084",
   "metadata": {},
   "source": [
    "## 1.2 编写代码的速度与程序运行的速度\n",
    "> 效率 ： 编写代码的速度  <---> 程序运行的速度\n",
    "\n",
    "\"C is the best balance I've ever seen between power and expressiveness. You can do almost anything you want to do by programming fairly straightforwardly and you will have a very good mental model of what's going to happen on the machine; you can predict reasonably well how quickly it's going to run, you understand what's going on .... - Brian Kernighan (2000)\n",
    "“Golang 是我见过的语言里面能力与表现了最为平衡的一种。无论什么样的功能，都可以用相当直观的代码实现，而且你用这种代码时多用的思路与计算机的运行方式相当贴近。你可以准确的判断出程序的走向和运行的速度，而且能清楚的知道他的运行原理，这就是GO语言的关键之处。” - 布莱恩·克尼汉 （2000）\n",
    "\n",
    "**优先级：**\n",
    "1. 编写代码的速度\n",
    "2. 程序的运行速度\n"
   ]
  },
  {
   "cell_type": "markdown",
   "id": "a2e10b57",
   "metadata": {},
   "source": [
    "### 1.3 代码的正确程度与软件的运行速度\n",
    "> 不应该先入为主的优化代码的性能，最先优化的其实是代码的正确程度。\n",
    "\n",
    "通过调试器和Profile --基准测试，追踪，等来查找性能问题，之后予以修复。\n",
    "\n",
    "**延迟问题的关键：**\n",
    "1. 降低延迟 -- 网络，IO\n",
    "2. 内参分配不够好 -- \n",
    "3. 访问数据的方式不对（效率低）\n",
    "4. 算法效率低 -- 简化算法\n",
    "\n",
    "**优先级**\n",
    "1. 写对\n",
    "2. 写清\n",
    "3. 写短\n",
    "4. 写快\n",
    "\n",
    "\n",
    "\n"
   ]
  },
  {
   "cell_type": "markdown",
   "id": "7df7dcd9",
   "metadata": {},
   "source": [
    "### 1.4 代码评审\n",
    "\n",
    "\"Mistakes are an inevitable consequence of doing something new and, as such, should be seen as valuable; without them, we'd have no originality.\" - Ed Catmull (President of Pixar)  \n",
    "“错误是做新事物的必然结果，因此应该被视为有价值的;没有他们，我们就没有原创性。\n",
    "\n",
    "\n",
    "\"If you don’t make mistakes, you’re not working on hard enough problems.\" - Frank Wilczek  \n",
    "“如果你不犯错误，你就没有在努力解决足够困难的问题。”\n",
    "\n",
    "\n",
    "\"Making things easy to do is a false economy. Focus on making things easy to understand and the rest will follow.\" - Peter Bourgon  \n",
    "“让事情变得容易是一种虚假的经济。专注于使事情易于理解，其余的将随之而来。  \n",
    "只图简便其实恰恰不简便，我们应该关注应该怎么让大家看懂，能看懂就好办了。\n",
    "\n",
    "**衡量代码好坏的标准**\n",
    "1. 可靠 - 如果不能把可靠放在第一位，那么就不可能写出好代码；\n",
    "    1. 微观：读写内存，准确且高效；\n",
    "    2. 宏观：数据和数据的设计或数据转换是准确和高效的；\n",
    "    3. 更少的代码 - 代码越少越好(1000 len -- 15 bug)\n",
    "    4. 错误处理 -- (Go 将错误返回给调用放)\n",
    "2. 可读性 -- 把代码修改的正确是在提高代码的可读性，用大家能够理解的方式书写代码\n",
    "    1. 必须构建团队成员间易于理解的代码。\n",
    "        1. 你的编程能力是否数据团队平均水平  \n",
    "            强 -- 帮助他人提高，并不要写出高深的代码  \n",
    "            弱 -- 努力使自己提升  \n",
    "        2. 有没有理解这一整套的代码\n",
    "        3. 有没有明确把握住当前的工作\n",
    "        4. 怎样解决代码库里可能出现的BUG或问题\n",
    "    2. 好的代码不能隐藏程序的开销\n",
    "3. 简洁 -- 简洁是困难的设计和复杂的构建\n",
    "    > \"Making things easy to do is a false economy. Focus on making things easy to understand and the rest will follow.\" - Peter Bourgon  \n",
    "    > “让事情变得容易是一种虚假的经济。专注于使事情易于理解，其余的将随之而来。  \n",
    "    > 只图简便其实恰恰不简便，我们应该关注应该怎么让大家看懂，能看懂就好办了。\n",
    "    1. 简洁的代码需要通过重构才能写出\n",
    "    2. \n",
    "4. 性能"
   ]
  },
  {
   "cell_type": "code",
   "execution_count": 2,
   "id": "e3392825-60fe-457e-a90f-daf9f87d66f0",
   "metadata": {},
   "outputs": [
    {
     "name": "stdout",
     "output_type": "stream",
     "text": [
      "2023-07-03 09:01:26.623126094 +0000 UTC m=+61.116379176\n",
      "Hello Wlord, Go ...\n"
     ]
    }
   ],
   "source": [
    "import (\n",
    "    \"fmt\"\n",
    "    \"time\"\n",
    ")\n",
    "\n",
    "func main() {\n",
    "    fmt.Println(time.Now())\n",
    "    fmt.Println(\"Hello Wlord, Go ...\")\n",
    "}\n",
    "\n",
    "main()"
   ]
  }
 ],
 "metadata": {
  "kernelspec": {
   "display_name": "Go",
   "language": "go",
   "name": "gophernotes"
  },
  "language_info": {
   "codemirror_mode": "",
   "file_extension": ".go",
   "mimetype": "",
   "name": "go",
   "nbconvert_exporter": "",
   "pygments_lexer": "",
   "version": "go1.20.5"
  }
 },
 "nbformat": 4,
 "nbformat_minor": 5
}
